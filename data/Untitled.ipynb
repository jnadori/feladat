{
 "cells": [
  {
   "cell_type": "code",
   "execution_count": null,
   "id": "f1b400a3-581d-48c0-bc0b-55eb68ebfb20",
   "metadata": {},
   "outputs": [],
   "source": [
    "{'age': 52, 'workclass': 'Self-emp-not-inc', 'fnlgt': 209642, 'education': 'HS-grad', 'education-num': 9, 'marital-status': 'Married-civ-spouse', 'occupation': 'Exec-managerial', 'relationship': 'Husband', 'race': 'White', 'sex': 'Male', 'capital-gain': 0, 'capital-loss': 0, 'hours-per-week': 45, 'native-country': 'United-States', 'salary': '>50K'}"
   ]
  },
  {
   "cell_type": "code",
   "execution_count": null,
   "id": "249404e5-4913-4712-98a9-e2b819c9123e",
   "metadata": {},
   "outputs": [],
   "source": [
    "{'age': 44, 'workclass': 'Private', 'fnlgt': 116632, 'education': 'Some-college', 'education-num': 10, 'marital-status': 'Married-civ-spouse', 'occupation': 'Prof-specialty', 'relationship': 'Husband', 'race': 'White', 'sex': 'Male', 'capital-gain': 0, 'capital-loss': 0, 'hours-per-week': 40, 'native-country': 'United-States', 'salary': '>50K'}"
   ]
  },
  {
   "cell_type": "code",
   "execution_count": 1,
   "id": "75547692-3dc7-4466-8ed3-6f770ebe8dc6",
   "metadata": {},
   "outputs": [],
   "source": [
    "import pandas as pd"
   ]
  },
  {
   "cell_type": "code",
   "execution_count": 2,
   "id": "3e0b7412-d52b-44f7-b632-76d8aabea978",
   "metadata": {},
   "outputs": [],
   "source": [
    "df =pd.read_csv('census.csv')"
   ]
  },
  {
   "cell_type": "code",
   "execution_count": 4,
   "id": "7b3b3569-54ba-454c-bfef-3ea39d06f749",
   "metadata": {},
   "outputs": [
    {
     "data": {
      "text/plain": [
       "{'age': 44,\n",
       " 'workclass': 'Private',\n",
       " 'fnlgt': 326232,\n",
       " 'education': 'Bachelors',\n",
       " 'education-num': 13,\n",
       " 'marital-status': 'Divorced',\n",
       " 'occupation': 'Exec-managerial',\n",
       " 'relationship': 'Unmarried',\n",
       " 'race': 'White',\n",
       " 'sex': 'Male',\n",
       " 'capital-gain': 0,\n",
       " 'capital-loss': 2547,\n",
       " 'hours-per-week': 50,\n",
       " 'native-country': 'United-States',\n",
       " 'salary': '>50K'}"
      ]
     },
     "execution_count": 4,
     "metadata": {},
     "output_type": "execute_result"
    }
   ],
   "source": [
    "df.loc[2414].to_dict()"
   ]
  },
  {
   "cell_type": "code",
   "execution_count": null,
   "id": "29822ee9-8e31-4e0b-a7d3-4bc12b73ebe9",
   "metadata": {},
   "outputs": [],
   "source": [
    "{'age': 44,'workclass': 'Private','fnlgt': 326232,'education': 'Bachelors','education-num': 13,'marital-status': 'Divorced','occupation': 'Exec-managerial','relationship': 'Unmarried','race': 'White','sex': 'Male','capital-gain': 0,'capital-loss': 2547,'hours-per-week': 50,'native-country': 'United-States','salary': '>50K'}"
   ]
  }
 ],
 "metadata": {
  "kernelspec": {
   "display_name": "Python 3 (ipykernel)",
   "language": "python",
   "name": "python3"
  },
  "language_info": {
   "codemirror_mode": {
    "name": "ipython",
    "version": 3
   },
   "file_extension": ".py",
   "mimetype": "text/x-python",
   "name": "python",
   "nbconvert_exporter": "python",
   "pygments_lexer": "ipython3",
   "version": "3.8.13"
  }
 },
 "nbformat": 4,
 "nbformat_minor": 5
}
